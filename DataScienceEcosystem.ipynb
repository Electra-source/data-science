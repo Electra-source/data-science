{
 "cells": [
  {
   "cell_type": "markdown",
   "id": "a4836d4e-afe4-4104-8ef5-84edd09e4ee7",
   "metadata": {},
   "source": [
    "<H1>Data Science Tools and Ecosystem</H1>"
   ]
  },
  {
   "cell_type": "markdown",
   "id": "1c90ba71-5ba2-4aeb-b50a-c9147be56807",
   "metadata": {},
   "source": [
    "<b>Objectives:</b>\n",
    "<ul>\n",
    "    <li>Master Core Data Science Tools</li>\n",
    "    <li>Learn and Practice Key Programming Skills</li>\n",
    "    <li>Understand the Foundations of Data Science</li>\n",
    "</ul>"
   ]
  },
  {
   "cell_type": "markdown",
   "id": "256490a2-e987-41e2-8040-6c1b8cb6da9b",
   "metadata": {},
   "source": [
    "In this notebook, Data Science Tools and Ecosystem are summarized."
   ]
  },
  {
   "cell_type": "markdown",
   "id": "dcf54352-1b84-4dab-9697-c52e30ee4bfa",
   "metadata": {},
   "source": [
    "Some of the popular languages that Data Scientists use are:\n",
    "\n",
    "<ol>\n",
    "<li>Python\n",
    "<li>R\n",
    "<li>SQL\n",
    "<li>Julia\n",
    "<li>Scala\n",
    "</ol>"
   ]
  },
  {
   "cell_type": "markdown",
   "id": "7aad6092-4096-43b9-9d87-d4a002b61d0f",
   "metadata": {},
   "source": [
    "Some of the commonly used libraries used by Data Scientists include:\n",
    "\n",
    "<ol>\n",
    "<li>Matplotlib (Python) → Basic graphs and charts</li>\n",
    "<li>Seaborn (Python) → Statistical plots built on Matplotlib</li>\n",
    "<li>Plotly (Python) → Interactive charts and dashboards</li>\n",
    "<li>ggplot2 (R) → High-quality, elegant visualizations</li>\n"
   ]
  },
  {
   "cell_type": "markdown",
   "id": "4b0ec2fb-5274-4d6c-9fc8-7a6e488c8a1c",
   "metadata": {},
   "source": [
    "| Data Science Tools       |\n",
    "|---------------------------|\n",
    "| Jupyter Notebook          |\n",
    "| RStudio                   |\n",
    "| Visual Studio Code (VS Code) |\n"
   ]
  },
  {
   "cell_type": "markdown",
   "id": "238f3cf6-9f8d-4fd3-bd92-57b9ca994238",
   "metadata": {},
   "source": [
    "<h3>Below are a few examples of evaluating arithmetic expressions in Python</h3>"
   ]
  },
  {
   "cell_type": "code",
   "execution_count": 4,
   "id": "2f21f985-479f-4438-a384-e36b6e294315",
   "metadata": {},
   "outputs": [
    {
     "name": "stdout",
     "output_type": "stream",
     "text": [
      "[1] \"This a simple arithmetic expression to mutiply then add integers\"\n"
     ]
    },
    {
     "data": {
      "text/html": [
       "17"
      ],
      "text/latex": [
       "17"
      ],
      "text/markdown": [
       "17"
      ],
      "text/plain": [
       "[1] 17"
      ]
     },
     "metadata": {},
     "output_type": "display_data"
    }
   ],
   "source": [
    "print('This a simple arithmetic expression to mutiply then add integers')\n",
    "(3*4)+5\n"
   ]
  },
  {
   "cell_type": "code",
   "execution_count": 16,
   "id": "21ca5158-76cd-49f1-bf8a-f9ca2e7928f1",
   "metadata": {},
   "outputs": [
    {
     "name": "stdout",
     "output_type": "stream",
     "text": [
      "[1] \"This will convert 200 minutes to hours by diving by 60\"\n",
      "[1] 3.333333\n"
     ]
    }
   ],
   "source": [
    "print('This will convert 200 minutes to hours by diving by 60')\n",
    "\n",
    "minutes = 200\n",
    "\n",
    "hour = minutes / 60\n",
    "\n",
    "print(hour)\n"
   ]
  },
  {
   "cell_type": "markdown",
   "id": "4dcf5011-d72a-49d8-99b6-2eadb03589d4",
   "metadata": {},
   "source": [
    "<h2>Author</h2>\n",
    "Yusuf Adedeji Oje"
   ]
  },
  {
   "cell_type": "code",
   "execution_count": null,
   "id": "6af66ab9-5aa2-48a3-921b-81a4f78d99c9",
   "metadata": {},
   "outputs": [],
   "source": []
  }
 ],
 "metadata": {
  "kernelspec": {
   "display_name": "R",
   "language": "R",
   "name": "ir"
  },
  "language_info": {
   "codemirror_mode": "r",
   "file_extension": ".r",
   "mimetype": "text/x-r-source",
   "name": "R",
   "pygments_lexer": "r",
   "version": "3.6.1"
  }
 },
 "nbformat": 4,
 "nbformat_minor": 5
}
